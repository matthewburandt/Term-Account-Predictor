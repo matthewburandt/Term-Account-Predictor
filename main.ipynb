{
 "cells": [
  {
   "cell_type": "markdown",
   "id": "58046e66",
   "metadata": {},
   "source": [
    "## Term Account Prediction"
   ]
  },
  {
   "cell_type": "markdown",
   "id": "ab8cce8a",
   "metadata": {},
   "source": []
  }
 ],
 "metadata": {
  "language_info": {
   "name": "python"
  }
 },
 "nbformat": 4,
 "nbformat_minor": 5
}
